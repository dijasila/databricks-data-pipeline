{
 "cells": [
  {
   "cell_type": "code",
   "execution_count": null,
   "metadata": {},
   "outputs": [],
   "source": [
    "from src.data_reader import read_data\n",
    "from src.data_engineer import engineer_data\n",
    "\n",
    "# File path to the CSV\n",
    "file_path = \"/dbfs/data/sample_data.csv\"\n",
    "\n",
    "# Read data\n",
    "df = read_data(file_path)\n",
    "\n",
    "# Perform data engineering\n",
    "engineered_df = engineer_data(df)\n",
    "\n",
    "# Show engineered data\n",
    "engineered_df.show()"
   ]
  }
 ],
 "metadata": {
  "language_info": {
   "name": "python"
  }
 },
 "nbformat": 4,
 "nbformat_minor": 2
}
