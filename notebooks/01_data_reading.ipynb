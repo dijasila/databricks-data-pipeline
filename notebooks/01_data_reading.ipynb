{
 "cells": [
  {
   "cell_type": "code",
   "execution_count": null,
   "metadata": {},
   "outputs": [],
   "source": [
    "from src.data_reader import read_data\n",
    "\n",
    "# File path to the CSV in the Databricks file system\n",
    "file_path = \"/dbfs/data/sample_data.csv\"\n",
    "\n",
    "# Read data\n",
    "df = read_data(file_path)\n",
    "\n",
    "# Show data\n",
    "df.show()"
   ]
  }
 ],
 "metadata": {
  "language_info": {
   "name": "python"
  }
 },
 "nbformat": 4,
 "nbformat_minor": 2
}
